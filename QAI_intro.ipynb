{
  "nbformat": 4,
  "nbformat_minor": 0,
  "metadata": {
    "colab": {
      "provenance": [],
      "authorship_tag": "ABX9TyOZXAJ1CHMPU5TJNJX2yGXX",
      "include_colab_link": true
    },
    "kernelspec": {
      "name": "python3",
      "display_name": "Python 3"
    },
    "language_info": {
      "name": "python"
    }
  },
  "cells": [
    {
      "cell_type": "markdown",
      "metadata": {
        "id": "view-in-github",
        "colab_type": "text"
      },
      "source": [
        "<a href=\"https://colab.research.google.com/github/DADADAVE80/qualcomm-ai-hub/blob/main/QAI_intro.ipynb\" target=\"_parent\"><img src=\"https://colab.research.google.com/assets/colab-badge.svg\" alt=\"Open In Colab\"/></a>"
      ]
    },
    {
      "cell_type": "code",
      "execution_count": null,
      "metadata": {
        "colab": {
          "base_uri": "https://localhost:8080/"
        },
        "id": "Isp9EVi3PqB8",
        "outputId": "b3a2dedb-eede-40bb-a5ca-4e36446996b8"
      },
      "outputs": [
        {
          "output_type": "stream",
          "name": "stdout",
          "text": [
            "Requirement already satisfied: qai-hub in /usr/local/lib/python3.11/dist-packages (0.24.0)\n",
            "Requirement already satisfied: backoff>=2.2 in /usr/local/lib/python3.11/dist-packages (from qai-hub) (2.2.1)\n",
            "Requirement already satisfied: deprecation in /usr/local/lib/python3.11/dist-packages (from qai-hub) (2.1.0)\n",
            "Requirement already satisfied: h5py<4,>=2.10.0 in /usr/local/lib/python3.11/dist-packages (from qai-hub) (3.12.1)\n",
            "Requirement already satisfied: numpy<2,>=1.22.0 in /usr/local/lib/python3.11/dist-packages (from qai-hub) (1.26.4)\n",
            "Requirement already satisfied: packaging>=20.0 in /usr/local/lib/python3.11/dist-packages (from qai-hub) (24.2)\n",
            "Requirement already satisfied: prettytable>=3.9.0 in /usr/local/lib/python3.11/dist-packages (from qai-hub) (3.14.0)\n",
            "Requirement already satisfied: protobuf<4,>=3.20 in /usr/local/lib/python3.11/dist-packages (from qai-hub) (3.20.3)\n",
            "Requirement already satisfied: requests in /usr/local/lib/python3.11/dist-packages (from qai-hub) (2.32.3)\n",
            "Requirement already satisfied: requests-toolbelt in /usr/local/lib/python3.11/dist-packages (from qai-hub) (1.0.0)\n",
            "Requirement already satisfied: s3transfer<0.11,>=0.10.3 in /usr/local/lib/python3.11/dist-packages (from qai-hub) (0.10.4)\n",
            "Requirement already satisfied: semver>=3.0 in /usr/local/lib/python3.11/dist-packages (from qai-hub) (3.0.4)\n",
            "Requirement already satisfied: tqdm in /usr/local/lib/python3.11/dist-packages (from qai-hub) (4.67.1)\n",
            "Requirement already satisfied: typing-extensions>=4.12.2 in /usr/local/lib/python3.11/dist-packages (from qai-hub) (4.12.2)\n",
            "Requirement already satisfied: wcwidth in /usr/local/lib/python3.11/dist-packages (from prettytable>=3.9.0->qai-hub) (0.2.13)\n",
            "Requirement already satisfied: botocore<2.0a.0,>=1.33.2 in /usr/local/lib/python3.11/dist-packages (from s3transfer<0.11,>=0.10.3->qai-hub) (1.36.21)\n",
            "Requirement already satisfied: charset-normalizer<4,>=2 in /usr/local/lib/python3.11/dist-packages (from requests->qai-hub) (3.4.1)\n",
            "Requirement already satisfied: idna<4,>=2.5 in /usr/local/lib/python3.11/dist-packages (from requests->qai-hub) (3.10)\n",
            "Requirement already satisfied: urllib3<3,>=1.21.1 in /usr/local/lib/python3.11/dist-packages (from requests->qai-hub) (2.3.0)\n",
            "Requirement already satisfied: certifi>=2017.4.17 in /usr/local/lib/python3.11/dist-packages (from requests->qai-hub) (2025.1.31)\n",
            "Requirement already satisfied: jmespath<2.0.0,>=0.7.1 in /usr/local/lib/python3.11/dist-packages (from botocore<2.0a.0,>=1.33.2->s3transfer<0.11,>=0.10.3->qai-hub) (1.0.1)\n",
            "Requirement already satisfied: python-dateutil<3.0.0,>=2.1 in /usr/local/lib/python3.11/dist-packages (from botocore<2.0a.0,>=1.33.2->s3transfer<0.11,>=0.10.3->qai-hub) (2.8.2)\n",
            "Requirement already satisfied: six>=1.5 in /usr/local/lib/python3.11/dist-packages (from python-dateutil<3.0.0,>=2.1->botocore<2.0a.0,>=1.33.2->s3transfer<0.11,>=0.10.3->qai-hub) (1.17.0)\n"
          ]
        }
      ],
      "source": [
        "pip install qai-hub"
      ]
    },
    {
      "cell_type": "code",
      "source": [
        "from google.colab import userdata\n",
        "qai_key = userdata.get('QAI_API_TOKEN')"
      ],
      "metadata": {
        "id": "ylCA8W5_RcWY"
      },
      "execution_count": null,
      "outputs": []
    },
    {
      "cell_type": "code",
      "source": [
        "!qai-hub configure --api_token {qai_key}"
      ],
      "metadata": {
        "colab": {
          "base_uri": "https://localhost:8080/"
        },
        "id": "fxFySQ3gPwCX",
        "outputId": "649eb852-f12b-4448-fe39-508207c6aafd"
      },
      "execution_count": null,
      "outputs": [
        {
          "output_type": "stream",
          "name": "stdout",
          "text": [
            "/usr/local/lib/python3.11/dist-packages/qai_hub/_cli.py:358: UserWarning: Overwriting configuration: /root/.qai_hub/client.ini (previous configuration saved to /root/.qai_hub/client.ini.bak)\n",
            "  warnings.warn(\n",
            "qai-hub configuration saved to /root/.qai_hub/client.ini\n",
            "==================== /root/.qai_hub/client.ini ====================\n",
            "[api]\n",
            "api_token = 32873ff887c548be7fb31779f6088e0ede7af401\n",
            "api_url = https://app.aihub.qualcomm.com\n",
            "web_url = https://app.aihub.qualcomm.com\n",
            "verbose = True\n",
            "\n",
            "\n"
          ]
        }
      ]
    },
    {
      "cell_type": "code",
      "source": [
        "import qai_hub as hub\n",
        "hub.get_devices()"
      ],
      "metadata": {
        "colab": {
          "base_uri": "https://localhost:8080/"
        },
        "id": "TWM7pAq3Qub_",
        "outputId": "bee05fde-de2f-44cd-bf8f-25fc0d83c85c"
      },
      "execution_count": null,
      "outputs": [
        {
          "output_type": "execute_result",
          "data": {
            "text/plain": [
              "[Device(name='Google Pixel 3 (Family)', os='10', attributes=['os:android', 'framework:tflite', 'framework:onnx', 'abi:aarch64-android', 'vendor:google', 'format:phone', 'chipset:qualcomm-snapdragon-845', 'chipset:sdm845', 'hexagon:v65', 'soc-model:1']),\n",
              " Device(name='Google Pixel 3', os='10', attributes=['os:android', 'framework:tflite', 'framework:onnx', 'abi:aarch64-android', 'vendor:google', 'format:phone', 'chipset:qualcomm-snapdragon-845', 'chipset:sdm845', 'hexagon:v65', 'soc-model:1']),\n",
              " Device(name='Google Pixel 3a', os='10', attributes=['os:android', 'framework:tflite', 'framework:onnx', 'abi:aarch64-android', 'vendor:google', 'format:phone', 'chipset:qualcomm-snapdragon-670', 'chipset:sdm670', 'hexagon:v65', 'soc-model:6']),\n",
              " Device(name='Google Pixel 3 XL', os='10', attributes=['os:android', 'framework:tflite', 'framework:onnx', 'abi:aarch64-android', 'vendor:google', 'format:phone', 'chipset:qualcomm-snapdragon-845', 'chipset:sdm845', 'hexagon:v65', 'soc-model:1']),\n",
              " Device(name='Google Pixel 4', os='10', attributes=['os:android', 'framework:tflite', 'framework:onnx', 'abi:aarch64-android', 'vendor:google', 'format:phone', 'chipset:qualcomm-snapdragon-855', 'chipset:sm8150', 'hexagon:v66', 'soc-model:12']),\n",
              " Device(name='Google Pixel 4', os='11', attributes=['os:android', 'framework:tflite', 'framework:onnx', 'abi:aarch64-android', 'vendor:google', 'format:phone', 'chipset:qualcomm-snapdragon-855', 'chipset:sm8150', 'hexagon:v66', 'soc-model:12']),\n",
              " Device(name='Google Pixel 4a', os='11', attributes=['os:android', 'framework:tflite', 'framework:onnx', 'abi:aarch64-android', 'vendor:google', 'format:phone', 'chipset:qualcomm-snapdragon-730g', 'chipset:sm7150-ab', 'hexagon:v65', 'soc-model:17']),\n",
              " Device(name='Google Pixel 5', os='11', attributes=['os:android', 'framework:tflite', 'framework:onnx', 'abi:aarch64-android', 'vendor:google', 'format:phone', 'chipset:qualcomm-snapdragon-765g', 'chipset:sm7250', 'hexagon:v66', 'soc-model:25']),\n",
              " Device(name='Samsung Galaxy Tab S7', os='11', attributes=['os:android', 'framework:tflite', 'framework:onnx', 'abi:aarch64-android', 'vendor:samsung', 'format:tablet', 'chipset:qualcomm-snapdragon-865+', 'chipset:sm8250-ab', 'hexagon:v66', 'soc-model:21']),\n",
              " Device(name='Samsung Galaxy Tab A8 (2021)', os='11', attributes=['os:android', 'framework:tflite', 'framework:onnx', 'abi:aarch64-android', 'vendor:samsung', 'format:tablet', 'chipset:qualcomm-snapdragon-429', 'chipset:sdm429']),\n",
              " Device(name='Samsung Galaxy Note 20 (Intl)', os='11', attributes=['os:android', 'framework:tflite', 'framework:onnx', 'abi:aarch64-android', 'vendor:samsung', 'format:phone', 'chipset:samsung-exynos-990']),\n",
              " Device(name='Samsung Galaxy S21 (Family)', os='11', attributes=['os:android', 'framework:tflite', 'framework:onnx', 'abi:aarch64-android', 'vendor:samsung', 'format:phone', 'chipset:qualcomm-snapdragon-888', 'chipset:sm8350', 'hexagon:v68', 'soc-model:30', 'framework:qnn']),\n",
              " Device(name='Samsung Galaxy S21', os='11', attributes=['os:android', 'framework:tflite', 'framework:onnx', 'abi:aarch64-android', 'vendor:samsung', 'format:phone', 'chipset:qualcomm-snapdragon-888', 'chipset:sm8350', 'hexagon:v68', 'soc-model:30', 'framework:qnn']),\n",
              " Device(name='Samsung Galaxy S21+', os='11', attributes=['os:android', 'framework:tflite', 'framework:onnx', 'abi:aarch64-android', 'vendor:samsung', 'format:phone', 'chipset:qualcomm-snapdragon-888', 'chipset:sm8350', 'hexagon:v68', 'soc-model:30', 'framework:qnn']),\n",
              " Device(name='Samsung Galaxy S21 Ultra', os='11', attributes=['os:android', 'framework:tflite', 'framework:onnx', 'abi:aarch64-android', 'vendor:samsung', 'format:phone', 'chipset:qualcomm-snapdragon-888', 'chipset:sm8350', 'hexagon:v68', 'soc-model:30', 'framework:qnn']),\n",
              " Device(name='Xiaomi Redmi Note 10 5G', os='11', attributes=['os:android', 'framework:tflite', 'framework:onnx', 'abi:aarch64-android', 'vendor:oneplus', 'format:phone', 'chipset:qualcomm-snapdragon-678', 'chipset:sm6150-ac', 'hexagon:v66', 'soc-model:16']),\n",
              " Device(name='Google Pixel 3a XL', os='12', attributes=['os:android', 'framework:tflite', 'framework:onnx', 'abi:aarch64-android', 'vendor:google', 'format:phone', 'chipset:qualcomm-snapdragon-670', 'chipset:sdm670', 'hexagon:v65', 'soc-model:6']),\n",
              " Device(name='Google Pixel 4a', os='12', attributes=['os:android', 'framework:tflite', 'framework:onnx', 'abi:aarch64-android', 'vendor:google', 'format:phone', 'chipset:qualcomm-snapdragon-730g', 'chipset:sm7150-ab', 'hexagon:v65', 'soc-model:17']),\n",
              " Device(name='Google Pixel 5 (Family)', os='12', attributes=['os:android', 'framework:tflite', 'framework:onnx', 'abi:aarch64-android', 'vendor:google', 'format:phone', 'chipset:qualcomm-snapdragon-765g', 'chipset:sm7250', 'hexagon:v66', 'soc-model:25']),\n",
              " Device(name='Google Pixel 5', os='12', attributes=['os:android', 'framework:tflite', 'framework:onnx', 'abi:aarch64-android', 'vendor:google', 'format:phone', 'chipset:qualcomm-snapdragon-765g', 'chipset:sm7250', 'hexagon:v66', 'soc-model:25']),\n",
              " Device(name='Google Pixel 5a 5G', os='12', attributes=['os:android', 'framework:tflite', 'framework:onnx', 'abi:aarch64-android', 'vendor:google', 'format:phone', 'chipset:qualcomm-snapdragon-765g', 'chipset:sm7250', 'hexagon:v66', 'soc-model:25']),\n",
              " Device(name='Google Pixel 6', os='12', attributes=['os:android', 'framework:tflite', 'framework:onnx', 'abi:aarch64-android', 'vendor:google', 'format:phone', 'chipset:google-tensor']),\n",
              " Device(name='Samsung Galaxy A53 5G', os='12', attributes=['os:android', 'framework:tflite', 'framework:onnx', 'abi:aarch64-android', 'vendor:samsung', 'format:phone', 'chipset:samsung-exynos-1280']),\n",
              " Device(name='Samsung Galaxy A73 5G', os='12', attributes=['os:android', 'framework:tflite', 'framework:onnx', 'abi:aarch64-android', 'vendor:samsung', 'format:phone', 'chipset:qualcomm-snapdragon-778g', 'chipset:sm7325', 'hexagon:v68', 'soc-model:35', 'framework:qnn']),\n",
              " Device(name='RB3 Gen 2 (Proxy)', os='12', attributes=['os:android', 'framework:tflite', 'framework:onnx', 'abi:aarch64-android', 'vendor:qualcomm', 'format:iot', 'chipset:qualcomm-qcs6490-proxy', 'hexagon:v68', 'soc-model:35', 'framework:qnn']),\n",
              " Device(name='QCS6490 (Proxy)', os='12', attributes=['os:android', 'framework:tflite', 'framework:onnx', 'abi:aarch64-android', 'vendor:qualcomm', 'format:iot', 'chipset:qualcomm-qcs6490-proxy', 'hexagon:v68', 'soc-model:35', 'framework:qnn']),\n",
              " Device(name='RB5 (Proxy)', os='12', attributes=['os:android', 'framework:tflite', 'framework:onnx', 'abi:aarch64-android', 'vendor:qualcomm', 'format:iot', 'chipset:qualcomm-qcs8250-proxy', 'hexagon:v66', 'soc-model:21']),\n",
              " Device(name='QCS8250 (Proxy)', os='12', attributes=['os:android', 'framework:tflite', 'framework:onnx', 'abi:aarch64-android', 'vendor:qualcomm', 'format:iot', 'chipset:qualcomm-qcs8250-proxy', 'hexagon:v66', 'soc-model:21']),\n",
              " Device(name='QCS8550 (Proxy)', os='12', attributes=['os:android', 'framework:tflite', 'framework:onnx', 'abi:aarch64-android', 'vendor:qualcomm', 'format:iot', 'chipset:qualcomm-qcs8550-proxy', 'hexagon:v73', 'soc-model:43', 'htp-supports-fp16:true', 'framework:qnn']),\n",
              " Device(name='Samsung Galaxy S21 (Family)', os='12', attributes=['os:android', 'framework:tflite', 'framework:onnx', 'abi:aarch64-android', 'vendor:samsung', 'format:phone', 'chipset:qualcomm-snapdragon-888', 'chipset:sm8350', 'hexagon:v68', 'soc-model:30', 'framework:qnn']),\n",
              " Device(name='Samsung Galaxy S21', os='12', attributes=['os:android', 'framework:tflite', 'framework:onnx', 'abi:aarch64-android', 'vendor:samsung', 'format:phone', 'chipset:qualcomm-snapdragon-888', 'chipset:sm8350', 'hexagon:v68', 'soc-model:30', 'framework:qnn']),\n",
              " Device(name='Samsung Galaxy S21 Ultra', os='12', attributes=['os:android', 'framework:tflite', 'framework:onnx', 'abi:aarch64-android', 'vendor:samsung', 'format:phone', 'chipset:qualcomm-snapdragon-888', 'chipset:sm8350', 'hexagon:v68', 'soc-model:30', 'framework:qnn']),\n",
              " Device(name='Samsung Galaxy S22 (Family)', os='12', attributes=['os:android', 'framework:tflite', 'framework:onnx', 'abi:aarch64-android', 'vendor:samsung', 'format:phone', 'chipset:qualcomm-snapdragon-8gen1', 'chipset:sm8450', 'hexagon:v69', 'soc-model:36', 'htp-supports-fp16:true', 'framework:qnn']),\n",
              " Device(name='Samsung Galaxy S22 Ultra 5G', os='12', attributes=['os:android', 'framework:tflite', 'framework:onnx', 'abi:aarch64-android', 'vendor:samsung', 'format:phone', 'chipset:qualcomm-snapdragon-8gen1', 'chipset:sm8450', 'hexagon:v69', 'soc-model:36', 'htp-supports-fp16:true', 'framework:qnn']),\n",
              " Device(name='Samsung Galaxy S22 5G', os='12', attributes=['os:android', 'framework:tflite', 'framework:onnx', 'abi:aarch64-android', 'vendor:samsung', 'format:phone', 'chipset:qualcomm-snapdragon-8gen1', 'chipset:sm8450', 'hexagon:v69', 'soc-model:36', 'htp-supports-fp16:true', 'framework:qnn']),\n",
              " Device(name='Samsung Galaxy S22+ 5G', os='12', attributes=['os:android', 'framework:tflite', 'framework:onnx', 'abi:aarch64-android', 'vendor:samsung', 'format:phone', 'chipset:qualcomm-snapdragon-8gen1', 'chipset:sm8450', 'hexagon:v69', 'soc-model:36', 'htp-supports-fp16:true', 'framework:qnn']),\n",
              " Device(name='Samsung Galaxy Tab S8', os='12', attributes=['os:android', 'framework:tflite', 'framework:onnx', 'abi:aarch64-android', 'vendor:samsung', 'format:tablet', 'chipset:qualcomm-snapdragon-8gen1', 'chipset:sm8450', 'hexagon:v69', 'soc-model:36', 'htp-supports-fp16:true', 'framework:qnn']),\n",
              " Device(name='Xiaomi 12 (Family)', os='12', attributes=['os:android', 'framework:tflite', 'framework:onnx', 'abi:aarch64-android', 'vendor:xiaomi', 'format:phone', 'chipset:qualcomm-snapdragon-8gen1', 'chipset:sm8450', 'hexagon:v69', 'soc-model:36', 'htp-supports-fp16:true', 'framework:qnn']),\n",
              " Device(name='Xiaomi 12', os='12', attributes=['os:android', 'framework:tflite', 'framework:onnx', 'abi:aarch64-android', 'vendor:xiaomi', 'format:phone', 'chipset:qualcomm-snapdragon-8gen1', 'chipset:sm8450', 'hexagon:v69', 'soc-model:36', 'htp-supports-fp16:true', 'framework:qnn']),\n",
              " Device(name='Xiaomi 12 Pro', os='12', attributes=['os:android', 'framework:tflite', 'framework:onnx', 'abi:aarch64-android', 'vendor:xiaomi', 'format:phone', 'chipset:qualcomm-snapdragon-8gen1', 'chipset:sm8450', 'hexagon:v69', 'soc-model:36', 'htp-supports-fp16:true', 'framework:qnn']),\n",
              " Device(name='Google Pixel 6 (Family)', os='13', attributes=['os:android', 'framework:tflite', 'framework:onnx', 'abi:aarch64-android', 'vendor:google', 'format:phone', 'chipset:google-tensor']),\n",
              " Device(name='Google Pixel 6', os='13', attributes=['os:android', 'framework:tflite', 'framework:onnx', 'abi:aarch64-android', 'vendor:google', 'format:phone', 'chipset:google-tensor']),\n",
              " Device(name='Google Pixel 6a', os='13', attributes=['os:android', 'framework:tflite', 'framework:onnx', 'abi:aarch64-android', 'vendor:google', 'format:phone', 'chipset:google-tensor']),\n",
              " Device(name='Google Pixel 7 (Family)', os='13', attributes=['os:android', 'framework:tflite', 'framework:onnx', 'abi:aarch64-android', 'vendor:google', 'format:phone', 'chipset:google-tensor-g2']),\n",
              " Device(name='Google Pixel 7', os='13', attributes=['os:android', 'framework:tflite', 'framework:onnx', 'abi:aarch64-android', 'vendor:google', 'format:phone', 'chipset:google-tensor-g2']),\n",
              " Device(name='Google Pixel 7 Pro', os='13', attributes=['os:android', 'framework:tflite', 'framework:onnx', 'abi:aarch64-android', 'vendor:google', 'format:phone', 'chipset:google-tensor-g2']),\n",
              " Device(name='Samsung Galaxy A14 5G', os='13', attributes=['os:android', 'framework:tflite', 'framework:onnx', 'abi:aarch64-android', 'vendor:samsung', 'format:phone', 'chipset:samsung-exynos-1330']),\n",
              " Device(name='Samsung Galaxy S22 5G', os='13', attributes=['os:android', 'framework:tflite', 'framework:onnx', 'abi:aarch64-android', 'vendor:samsung', 'format:phone', 'chipset:qualcomm-snapdragon-8gen1', 'chipset:sm8450', 'hexagon:v69', 'soc-model:36', 'htp-supports-fp16:true', 'framework:qnn']),\n",
              " Device(name='QCS8450 (Proxy)', os='13', attributes=['os:android', 'framework:tflite', 'framework:onnx', 'abi:aarch64-android', 'vendor:qualcomm', 'format:xr', 'chipset:qualcomm-qcs8450-proxy', 'hexagon:v69', 'soc-model:36', 'htp-supports-fp16:true', 'framework:qnn']),\n",
              " Device(name='XR2 Gen 2 (Proxy)', os='13', attributes=['os:android', 'framework:tflite', 'framework:onnx', 'abi:aarch64-android', 'vendor:qualcomm', 'format:xr', 'chipset:qualcomm-qcs8450-proxy', 'hexagon:v69', 'soc-model:36', 'htp-supports-fp16:true', 'framework:qnn']),\n",
              " Device(name='Samsung Galaxy S23 (Family)', os='13', attributes=['os:android', 'framework:tflite', 'framework:onnx', 'abi:aarch64-android', 'vendor:samsung', 'format:phone', 'chipset:qualcomm-snapdragon-8gen2', 'chipset:sm8550', 'hexagon:v73', 'soc-model:43', 'htp-supports-fp16:true', 'framework:qnn']),\n",
              " Device(name='SA8650 (Proxy)', os='13', attributes=['os:android', 'framework:tflite', 'framework:onnx', 'abi:aarch64-android', 'format:auto', 'vendor:qualcomm', 'chipset:qualcomm-sa8650p-proxy', 'hexagon:v73', 'soc-model:43', 'htp-supports-fp16:true', 'framework:qnn']),\n",
              " Device(name='SA8775 (Proxy)', os='13', attributes=['os:android', 'framework:tflite', 'framework:onnx', 'abi:aarch64-android', 'format:auto', 'vendor:qualcomm', 'chipset:qualcomm-sa8775p-proxy', 'hexagon:v73', 'soc-model:43', 'htp-supports-fp16:true', 'framework:qnn']),\n",
              " Device(name='SA8255 (Proxy)', os='13', attributes=['os:android', 'framework:tflite', 'framework:onnx', 'abi:aarch64-android', 'format:auto', 'vendor:qualcomm', 'chipset:qualcomm-sa8255p-proxy', 'hexagon:v73', 'soc-model:43', 'htp-supports-fp16:true', 'framework:qnn']),\n",
              " Device(name='Samsung Galaxy S23', os='13', attributes=['os:android', 'framework:tflite', 'framework:onnx', 'abi:aarch64-android', 'vendor:samsung', 'format:phone', 'chipset:qualcomm-snapdragon-8gen2', 'chipset:sm8550', 'hexagon:v73', 'soc-model:43', 'htp-supports-fp16:true', 'framework:qnn']),\n",
              " Device(name='Samsung Galaxy S23+', os='13', attributes=['os:android', 'framework:tflite', 'framework:onnx', 'abi:aarch64-android', 'vendor:samsung', 'format:phone', 'chipset:qualcomm-snapdragon-8gen2', 'chipset:sm8550', 'hexagon:v73', 'soc-model:43', 'htp-supports-fp16:true', 'framework:qnn']),\n",
              " Device(name='Samsung Galaxy S23 Ultra', os='13', attributes=['os:android', 'framework:tflite', 'framework:onnx', 'abi:aarch64-android', 'vendor:samsung', 'format:phone', 'chipset:qualcomm-snapdragon-8gen2', 'chipset:sm8550', 'hexagon:v73', 'soc-model:43', 'htp-supports-fp16:true', 'framework:qnn']),\n",
              " Device(name='Google Pixel 7', os='14', attributes=['os:android', 'framework:tflite', 'framework:onnx', 'abi:aarch64-android', 'vendor:google', 'format:phone', 'chipset:google-tensor-g2']),\n",
              " Device(name='Google Pixel 8 (Family)', os='14', attributes=['os:android', 'framework:tflite', 'framework:onnx', 'abi:aarch64-android', 'vendor:google', 'format:phone', 'chipset:google-tensor-g3']),\n",
              " Device(name='Google Pixel 8', os='14', attributes=['os:android', 'framework:tflite', 'framework:onnx', 'abi:aarch64-android', 'vendor:google', 'format:phone', 'chipset:google-tensor-g3']),\n",
              " Device(name='Google Pixel 8 Pro', os='14', attributes=['os:android', 'framework:tflite', 'framework:onnx', 'abi:aarch64-android', 'vendor:google', 'format:phone', 'chipset:google-tensor-g3']),\n",
              " Device(name='Samsung Galaxy S24 (Family)', os='14', attributes=['os:android', 'framework:tflite', 'framework:onnx', 'abi:aarch64-android', 'vendor:samsung', 'format:phone', 'chipset:qualcomm-snapdragon-8gen3', 'chipset:sm8650', 'hexagon:v75', 'soc-model:57', 'htp-supports-fp16:true', 'framework:qnn']),\n",
              " Device(name='Samsung Galaxy S24', os='14', attributes=['os:android', 'framework:tflite', 'framework:onnx', 'abi:aarch64-android', 'vendor:samsung', 'format:phone', 'chipset:qualcomm-snapdragon-8gen3', 'chipset:sm8650', 'hexagon:v75', 'soc-model:57', 'htp-supports-fp16:true', 'framework:qnn']),\n",
              " Device(name='Samsung Galaxy S24 Ultra', os='14', attributes=['os:android', 'framework:tflite', 'framework:onnx', 'abi:aarch64-android', 'vendor:samsung', 'format:phone', 'chipset:qualcomm-snapdragon-8gen3', 'chipset:sm8650', 'hexagon:v75', 'soc-model:57', 'htp-supports-fp16:true', 'framework:qnn']),\n",
              " Device(name='Samsung Galaxy S24+', os='14', attributes=['os:android', 'framework:tflite', 'framework:onnx', 'abi:aarch64-android', 'vendor:samsung', 'format:phone', 'chipset:qualcomm-snapdragon-8gen3', 'chipset:sm8650', 'hexagon:v75', 'soc-model:57', 'htp-supports-fp16:true', 'framework:qnn']),\n",
              " Device(name='Snapdragon 8cx Gen 3 CRD', os='11', attributes=['os:windows', 'format:compute', 'framework:onnx', 'vendor:qualcomm', 'abi:aarch64-windows', 'chipset:qualcomm-snapdragon-8cxgen3', 'chipset:sc8280x', 'hexagon:v68', 'soc-model:37', 'framework:qnn']),\n",
              " Device(name='Snapdragon X Elite CRD', os='11', attributes=['os:windows', 'format:compute', 'framework:onnx', 'vendor:qualcomm', 'abi:aarch64-windows', 'chipset:qualcomm-snapdragon-x-elite', 'chipset:sc8380xp', 'hexagon:v73', 'soc-model:60', 'htp-supports-fp16:true', 'framework:qnn']),\n",
              " Device(name='Snapdragon X Plus 8-Core CRD', os='11', attributes=['os:windows', 'format:compute', 'framework:onnx', 'vendor:qualcomm', 'abi:aarch64-windows', 'chipset:qualcomm-snapdragon-x-plus-8-core', 'chipset:sc8340xp', 'hexagon:v73', 'soc-model:60', 'htp-supports-fp16:true', 'framework:qnn']),\n",
              " Device(name='Snapdragon 8 Elite QRD', os='15', attributes=['os:android', 'framework:tflite', 'framework:onnx', 'vendor:qualcomm', 'abi:aarch64-android', 'format:phone', 'chipset:qualcomm-snapdragon-8-elite', 'chipset:sm8750', 'hexagon:v79', 'soc-model:69', 'htp-supports-fp16:true', 'framework:qnn']),\n",
              " Device(name='SA8295P ADP', os='14', attributes=['os:android', 'framework:tflite', 'framework:onnx', 'vendor:qualcomm', 'abi:aarch64-android', 'format:auto', 'chipset:qualcomm-sa8295p', 'hexagon:v68', 'soc-model:39', 'htp-supports-fp16:true', 'framework:qnn']),\n",
              " Device(name='SA8775P ADP', os='14', attributes=['os:android', 'framework:tflite', 'framework:onnx', 'vendor:qualcomm', 'abi:aarch64-android', 'format:auto', 'chipset:qualcomm-sa8775p', 'hexagon:v73', 'soc-model:52', 'htp-supports-fp16:true', 'framework:qnn']),\n",
              " Device(name='SA7255P ADP', os='14', attributes=['os:android', 'framework:tflite', 'framework:onnx', 'vendor:qualcomm', 'abi:aarch64-android', 'format:auto', 'chipset:qualcomm-sa7255p', 'hexagon:v75', 'soc-model:67', 'htp-supports-fp16:true', 'framework:qnn']),\n",
              " Device(name='QCS9075 (Proxy)', os='14', attributes=['os:android', 'framework:tflite', 'framework:onnx', 'vendor:qualcomm', 'abi:aarch64-android', 'format:iot', 'chipset:qualcomm-qcs9075-proxy', 'hexagon:v73', 'soc-model:52', 'htp-supports-fp16:true', 'framework:qnn']),\n",
              " Device(name='QCS8275 (Proxy)', os='14', attributes=['os:android', 'framework:tflite', 'framework:onnx', 'vendor:qualcomm', 'abi:aarch64-android', 'format:iot', 'chipset:qualcomm-qcs8275-proxy', 'hexagon:v75', 'soc-model:67', 'htp-supports-fp16:true', 'framework:qnn'])]"
            ]
          },
          "metadata": {},
          "execution_count": 4
        }
      ]
    }
  ]
}